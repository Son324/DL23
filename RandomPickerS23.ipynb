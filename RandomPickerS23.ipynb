{
  "nbformat": 4,
  "nbformat_minor": 0,
  "metadata": {
    "colab": {
      "provenance": [],
      "include_colab_link": true
    },
    "kernelspec": {
      "name": "python3",
      "display_name": "Python 3"
    },
    "language_info": {
      "name": "python"
    }
  },
  "cells": [
    {
      "cell_type": "markdown",
      "metadata": {
        "id": "view-in-github",
        "colab_type": "text"
      },
      "source": [
        "<a href=\"https://colab.research.google.com/github/Son324/DL23/blob/main/RandomPickerS23.ipynb\" target=\"_parent\"><img src=\"https://colab.research.google.com/assets/colab-badge.svg\" alt=\"Open In Colab\"/></a>"
      ]
    },
    {
      "cell_type": "markdown",
      "source": [
        "# 🌀 Random Picker S23\n",
        "\n",
        "## ▶️ Description:\n",
        "1. df = students names by class (3 classes: Engpro, DL, Engling)\n",
        "2. Three versions: \n",
        "+ The final pick [1]: Written format - display random names and pick ONE\n",
        "+ The final pick [2]: Audio format - The final pick in audio\n",
        "+ The final pick [3]: Live version - Using a live weblink, do the written format picker"
      ],
      "metadata": {
        "id": "03hbdKPPjpmM"
      }
    },
    {
      "cell_type": "markdown",
      "source": [
        "---\n",
        "# 😍 The final pick: [1] written format\n",
        "---"
      ],
      "metadata": {
        "id": "Mg1C59TPJ-De"
      }
    },
    {
      "cell_type": "code",
      "source": [
        "#@markdown File link & Font install (for Korean): 'NanumGothic'\n",
        "!apt-get update -qq\n",
        "!apt-get install -qq fonts-nanum\n",
        "\n",
        "import matplotlib.font_manager as fm\n",
        "import matplotlib.pyplot as plt\n",
        "\n",
        "fontpath = '/usr/share/fonts/truetype/nanum/NanumGothic.ttf'\n",
        "font = fm.FontProperties(fname=fontpath, size=36)\n",
        "plt.rc('font', family='NanumGothic')\n",
        "\n",
        "url = \"https://raw.githubusercontent.com/MK316/Spring2023/main/data/S23_att_total.csv\""
      ],
      "metadata": {
        "cellView": "form",
        "id": "zVgDC2BPGJ8i",
        "outputId": "355c957a-bb59-479d-967f-3b540ed7799f",
        "colab": {
          "base_uri": "https://localhost:8080/"
        }
      },
      "execution_count": null,
      "outputs": [
        {
          "output_type": "stream",
          "name": "stdout",
          "text": [
            "Selecting previously unselected package fonts-nanum.\n",
            "(Reading database ... 122349 files and directories currently installed.)\n",
            "Preparing to unpack .../fonts-nanum_20180306-3_all.deb ...\n",
            "Unpacking fonts-nanum (20180306-3) ...\n",
            "Setting up fonts-nanum (20180306-3) ...\n",
            "Processing triggers for fontconfig (2.13.1-2ubuntu3) ...\n"
          ]
        }
      ]
    },
    {
      "cell_type": "code",
      "source": [
        "#@markdown Who's the final pick?\n",
        "# Step 1: Import necessary libraries\n",
        "\n",
        "Class_name = \"2_\\uB514\\uC9C0\\uD138\\uB9AC\\uD130\\uB7EC\\uC2DC\\uC640 \\uC601\\uC5B4\\uAD50\\uC721\" #@param = [\"1_영어발음연습\",\"2_디지털리터러시와 영어교육\",\"3_영어학의이해\"]\n",
        "contents = Class_name.split('_')\n",
        "cnum = contents[0]\n",
        "cnum2 = contents[1]\n",
        "cn = int(cnum)\n",
        "cname = [\"Engpro\", \"DL\",\"Engling\"]\n",
        "class_name = cname[cn]\n",
        "\n",
        "import pandas as pd\n",
        "import random\n",
        "import matplotlib.pyplot as plt\n",
        "import time\n",
        "from IPython.display import clear_output, Audio\n",
        "\n",
        "\n",
        "# Step 2: Read the CSV file and extract the \"Names\" column as a list\n",
        "try:\n",
        "    df = pd.read_csv(url, encoding='utf-8')\n",
        "except UnicodeDecodeError:\n",
        "    df = pd.read_csv(url, encoding='cp949')\n",
        "# class_name = input(\"Which class? \")\n",
        "names = df.loc[df[\"Class\"] == class_name, \"Names\"].tolist()\n",
        "\n",
        "# Step 3: Pick a random name from 'names' variable\n",
        "def pick_random_name():\n",
        "    selected_name = random.choice(names)\n",
        "    return selected_name\n",
        "\n",
        "# Step 4: Display the picked name in a larger font size\n",
        "def display_name(name, font_size=36, final_pick=False):\n",
        "    clear_output(wait=True)\n",
        "    plt.figure(figsize=(6, 3))\n",
        "\n",
        "    if final_pick:\n",
        "        plt.text(0.5, 0.5, f\"The final pick is: {name}\", fontsize=font_size, ha='center', va='center', fontproperties=font)\n",
        "    else:\n",
        "        plt.text(0.5, 0.5, name, fontsize=font_size, ha='center', va='center', fontproperties=font)\n",
        "    plt.gca().set_xticks([])\n",
        "    plt.gca().set_yticks([])\n",
        "    plt.box(False)\n",
        "    plt.show()\n",
        "    time.sleep(1)\n",
        "\n",
        "# Step 5: Pick random names and display them\n",
        "for i in range(9):\n",
        "    picked_name = pick_random_name()\n",
        "    display_name(picked_name)\n",
        "\n",
        "# Step 6: Display the 10th picked name\n",
        "picked_name = pick_random_name()\n",
        "display_name(picked_name, final_pick=True)\n",
        "print(\"The class '%s' has '%d' students: \"%(cnum2, len(names)))"
      ],
      "metadata": {
        "cellView": "form",
        "id": "2KsSpbqgGOuV"
      },
      "execution_count": null,
      "outputs": []
    },
    {
      "cell_type": "markdown",
      "source": [
        "---\n",
        "# 😍 The final pick: Audio format\n",
        "---"
      ],
      "metadata": {
        "id": "QeXuIsOYchO0"
      }
    },
    {
      "cell_type": "code",
      "source": [
        "!pip install gtts"
      ],
      "metadata": {
        "id": "4x45uPlpb7WG"
      },
      "execution_count": null,
      "outputs": []
    },
    {
      "cell_type": "code",
      "source": [
        "#@markdown Who's the final pick?\n",
        "# Step 1: Import necessary libraries\n",
        "\n",
        "import pandas as pd\n",
        "import random\n",
        "import matplotlib.pyplot as plt\n",
        "import time\n",
        "from IPython.display import clear_output, Audio\n",
        "from gtts import gTTS\n",
        "\n",
        "Class_name = \"2_\\uB514\\uC9C0\\uD138\\uB9AC\\uD130\\uB7EC\\uC2DC\\uC640 \\uC601\\uC5B4\\uAD50\\uC721\" #@param = [\"1_영어발음연습\",\"2_디지털리터러시와 영어교육\",\"3_영어학의이해\"]\n",
        "contents = Class_name.split('_')\n",
        "cnum = contents[0]\n",
        "cnum2 = contents[1]\n",
        "cn = int(cnum)\n",
        "cname = [\"Engpro\", \"DL\",\"Engling\"]\n",
        "class_name = cname[cn-1]\n",
        "\n",
        "url = \"https://raw.githubusercontent.com/MK316/Spring2023/main/data/S23_att_total.csv\"\n",
        "\n",
        "# Step 2: Read the CSV file and extract the \"Names\" column as a list\n",
        "try:\n",
        "    df = pd.read_csv(url, encoding='utf-8')\n",
        "except UnicodeDecodeError:\n",
        "    df = pd.read_csv(url, encoding='cp949')\n",
        "# class_name = input(\"Which class? \")\n",
        "names = df.loc[df[\"Class\"] == class_name, \"Names\"].tolist()\n",
        "csize = len(names)\n",
        "# Step 3: Pick a random name from 'names' variable\n",
        "def pick_random_name():\n",
        "    selected_name = random.choice(names)\n",
        "    return selected_name\n",
        "\n",
        "# # Step 4: Display the picked name in a larger font size\n",
        "# def display_name(name, font_size=36, final_pick=False):\n",
        "#     clear_output(wait=True)\n",
        "#     plt.figure(figsize=(6, 3))\n",
        "\n",
        "#     if final_pick:\n",
        "#         plt.text(0.5, 0.5, f\"The final pick is: {name}\", fontsize=font_size, ha='center', va='center', fontproperties=font)\n",
        "#     else:\n",
        "#         plt.text(0.5, 0.5, name, fontsize=font_size, ha='center', va='center', fontproperties=font)\n",
        "#     plt.gca().set_xticks([])\n",
        "#     plt.gca().set_yticks([])\n",
        "#     plt.box(False)\n",
        "#     plt.show()\n",
        "#     time.sleep(1)\n",
        "\n",
        "# Step 5: Pick random names and display them\n",
        "for i in range(9):\n",
        "    picked_name = pick_random_name()\n",
        "    # display_name(picked_name)\n",
        "\n",
        "# Step 6: Display the 10th picked name\n",
        "picked_name = pick_random_name()\n",
        "# display_name(picked_name, final_pick=True)\n",
        "print(\"The class '%s' has '%d' students: \"%(class_name, len(names)))\n",
        "\n",
        "def tts(txt):\n",
        "    # Initialize gTTS with the text to be converted\n",
        "    tts_obj = gTTS(text=txt, lang='ko', slow=False)\n",
        "\n",
        "    # Save the audio as an mp3 file\n",
        "    tts_obj.save(\"output.mp3\")\n",
        "    \n",
        "    # Play the audio file\n",
        "    audio_file = open(\"output.mp3\", \"rb\")\n",
        "    audio_bytes = audio_file.read()\n",
        "    audio_file.close()\n",
        "    return Audio(audio_bytes, autoplay=True)\n",
        "\n",
        "txt = \"준비되었나요? %s 수업은 %d 명의 학생이 있죠? 자, 저는 '%s' 학생을 뽑겠습니다. %s학생 어디있는지 손들어 보세요. \"%(cnum2, csize, picked_name, picked_name)\n",
        "# print(\"Final pick: %s\"%picked_name)\n",
        "tts(txt)"
      ],
      "metadata": {
        "cellView": "form",
        "id": "tNM8nuxtbBNb"
      },
      "execution_count": null,
      "outputs": []
    },
    {
      "cell_type": "markdown",
      "source": [
        "---\n",
        "# 😍 The Final Pick: Live link using Gradio\n",
        "---"
      ],
      "metadata": {
        "id": "rcxDugB5HEDg"
      }
    },
    {
      "cell_type": "markdown",
      "source": [
        "The app will ask the file link from github\n",
        "The app will ask the class name: Engpro, DL, or Engling"
      ],
      "metadata": {
        "id": "h9rM0iqER6Uk"
      }
    },
    {
      "cell_type": "code",
      "source": [
        "#@markdown [1] Install and import libraries\n",
        "%%capture\n",
        "!pip install gradio"
      ],
      "metadata": {
        "cellView": "form",
        "id": "ai5b19yGHGLg"
      },
      "execution_count": null,
      "outputs": []
    },
    {
      "cell_type": "code",
      "source": [
        "#@markdown [2] Pick one live link (using Gradio): input 'class name'\n",
        "import pandas as pd\n",
        "import random\n",
        "import time\n",
        "import gradio as gr\n",
        "\n",
        "github_csv_link = \"https://raw.githubusercontent.com/MK316/Spring2023/main/data/S23_att_total.csv\"\n",
        "\n",
        "class_input = gr.inputs.Textbox(lines=1, label=\"Enter the class name: (e.g., Engpro, DL, Engling)\")\n",
        "output = gr.outputs.Textbox(label=\"Picked Name:\")\n",
        "\n",
        "inputs = [class_input]\n",
        "\n",
        "def pick_random_name(names):\n",
        "    return random.choice(names)\n",
        "\n",
        "def run_app(class_name):\n",
        "    # Step 1: Read the CSV file and extract the \"Names\" column based on the given class name\n",
        "    try:\n",
        "        df = pd.read_csv(github_csv_link, encoding='utf-8')\n",
        "    except UnicodeDecodeError:\n",
        "        df = pd.read_csv(github_csv_link, encoding='cp949')\n",
        "\n",
        "    names = df.loc[df[\"Class\"] == class_name, \"Names\"].tolist()\n",
        "\n",
        "    # Simulate the random picking process by concatenating the names\n",
        "    intermediate_text = \"\"\n",
        "    for i in range(9):\n",
        "        intermediate_text += random.choice(names) + \" -> \"\n",
        "        time.sleep(0.5)  # Pause for half a second to simulate the process\n",
        "\n",
        "    picked_name = pick_random_name(names)\n",
        "    sn = len(names)\n",
        "    sn = int(sn)\n",
        "    return intermediate_text + \"\\n\\nFinal pick (out of %d): \"%sn + picked_name\n",
        "\n",
        "gr.Interface(fn=run_app, inputs=inputs, outputs=output, title=\"MK316 Class: Random Name Picker\").launch(share=True)\n"
      ],
      "metadata": {
        "cellView": "form",
        "id": "Gyx5NO_3oyAv"
      },
      "execution_count": null,
      "outputs": []
    },
    {
      "cell_type": "code",
      "source": [
        "#@markdown Install {pyqrcode} and enter link address\n",
        "!pip install pyqrcode\n",
        "\n",
        "import pyqrcode\n",
        "from pyqrcode import QRCode\n",
        "\n",
        "\n",
        "#@markdown Enter the link, save it as a file, and display\n",
        "s = input(\"Paste the link: \")\n",
        "\n",
        "# Generate QR code\n",
        "url = pyqrcode.create(s)\n",
        "\n",
        "# Create and save the png file naming \"myqr.png\"\n",
        "url.svg(\"myqrcode.svg\", scale=10)\n",
        "\n",
        "from IPython.display import SVG, display\n",
        "def show_svg(file):\n",
        "    display(SVG(file))\n",
        "\n",
        "show_svg(\"myqrcode.svg\")"
      ],
      "metadata": {
        "cellView": "form",
        "id": "0yztFU4GnOxg"
      },
      "execution_count": null,
      "outputs": []
    }
  ]
}