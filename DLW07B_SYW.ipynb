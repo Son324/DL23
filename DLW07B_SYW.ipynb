{
  "nbformat": 4,
  "nbformat_minor": 0,
  "metadata": {
    "colab": {
      "provenance": [],
      "authorship_tag": "ABX9TyNSBG3ZDxfjocnRuyebWcS/",
      "include_colab_link": true
    },
    "kernelspec": {
      "name": "python3",
      "display_name": "Python 3"
    },
    "language_info": {
      "name": "python"
    }
  },
  "cells": [
    {
      "cell_type": "markdown",
      "metadata": {
        "id": "view-in-github",
        "colab_type": "text"
      },
      "source": [
        "<a href=\"https://colab.research.google.com/github/Son324/DL23/blob/main/DLW07B_SYW.ipynb\" target=\"_parent\"><img src=\"https://colab.research.google.com/assets/colab-badge.svg\" alt=\"Open In Colab\"/></a>"
      ]
    },
    {
      "cell_type": "markdown",
      "source": [],
      "metadata": {
        "id": "m-3cZyMTSZXj"
      }
    },
    {
      "cell_type": "markdown",
      "source": [
        "Strings: A string is a sequence of characters enclosed in single or double quotes. Examples: \"Hello, world!\" or 'Python is great!'\n",
        "\n",
        "Integers: Integers are whole numbers, positive or negative, without any decimal points. Examples: 42, -5, 0"
      ],
      "metadata": {
        "id": "fopsPvznS3k_"
      }
    },
    {
      "cell_type": "code",
      "source": [
        "greeting = \"Hello, students!\"\n",
        "year = 2023"
      ],
      "metadata": {
        "id": "i0MnNqz1Tpl-"
      },
      "execution_count": null,
      "outputs": []
    },
    {
      "cell_type": "code",
      "source": [
        "print(greeting)\n",
        "print(year)"
      ],
      "metadata": {
        "colab": {
          "base_uri": "https://localhost:8080/"
        },
        "id": "vi6esVaTUhPZ",
        "outputId": "2e8974cf-6458-42e6-d2ba-0166711c852f"
      },
      "execution_count": null,
      "outputs": [
        {
          "output_type": "stream",
          "name": "stdout",
          "text": [
            "Hello, students!\n",
            "2023\n"
          ]
        }
      ]
    },
    {
      "cell_type": "code",
      "source": [
        "message = greeting + \" \" + str(year)\n",
        "print(message)"
      ],
      "metadata": {
        "colab": {
          "base_uri": "https://localhost:8080/"
        },
        "id": "H4PVAz9KVFtV",
        "outputId": "fe2b03e7-449d-4e18-8dda-526dee47d548"
      },
      "execution_count": null,
      "outputs": [
        {
          "output_type": "stream",
          "name": "stdout",
          "text": [
            "Hello, students! 2023\n"
          ]
        }
      ]
    },
    {
      "cell_type": "code",
      "source": [
        "num1 = 10\n",
        "num2 = 3\n",
        "\n",
        "print(num1+num2)\n",
        "print(num1-num2)\n",
        "print(num1*num2)\n",
        "print(num1/num2)"
      ],
      "metadata": {
        "colab": {
          "base_uri": "https://localhost:8080/"
        },
        "id": "tJ-NRVQQVqdk",
        "outputId": "7a2214ca-d2c7-49bc-d15a-eac407c6accf"
      },
      "execution_count": null,
      "outputs": [
        {
          "output_type": "stream",
          "name": "stdout",
          "text": [
            "13\n",
            "7\n",
            "30\n",
            "3.3333333333333335\n"
          ]
        }
      ]
    },
    {
      "cell_type": "code",
      "source": [
        "user_string = input(\"Enter a string: \")\n",
        "user_number = int(input(\"Enter a number: \"))\n",
        "print(user_string * user_number)"
      ],
      "metadata": {
        "colab": {
          "base_uri": "https://localhost:8080/"
        },
        "id": "EqacbAwKYwdr",
        "outputId": "b24fe516-85b4-40ba-adb2-824dfb52bb9c"
      },
      "execution_count": null,
      "outputs": [
        {
          "output_type": "stream",
          "name": "stdout",
          "text": [
            "Enter a string: 안녕\n",
            "Enter a number: 5\n",
            "안녕안녕안녕안녕안녕\n"
          ]
        }
      ]
    },
    {
      "cell_type": "code",
      "source": [
        "sentence = \"Coding is fun and easy to learn!\"\n",
        "word_list = sentence.split()\n",
        "print(word_list)"
      ],
      "metadata": {
        "colab": {
          "base_uri": "https://localhost:8080/"
        },
        "id": "_WoAw9ODZfWw",
        "outputId": "7372e601-5d2c-4119-bf8d-c89e38961475"
      },
      "execution_count": null,
      "outputs": [
        {
          "output_type": "stream",
          "name": "stdout",
          "text": [
            "['Coding', 'is', 'fun', 'and', 'easy', 'to', 'learn!']\n"
          ]
        }
      ]
    },
    {
      "cell_type": "code",
      "source": [
        "text = \"Coding is Exciting!\"\n",
        "\n",
        "uppercase_text = text.upper()\n",
        "lowercase_text = text.lower()\n",
        "print(\"Uppercase.text: \", uppercase_text)\n",
        "print(\"Lowercase.text: \", lowercase_text)"
      ],
      "metadata": {
        "id": "ofOOFIBBaDpa",
        "outputId": "585b6830-90a4-452f-b1bf-74a6d6db1368",
        "colab": {
          "base_uri": "https://localhost:8080/"
        }
      },
      "execution_count": 1,
      "outputs": [
        {
          "output_type": "stream",
          "name": "stdout",
          "text": [
            "Uppercase.text:  CODING IS EXCITING!\n",
            "Lowercase.text:  coding is exciting!\n"
          ]
        }
      ]
    },
    {
      "cell_type": "code",
      "source": [
        "text = \"Hello, world!\"\n",
        "print(\"First character: \", text[0])\n",
        "print(\"Last character: \", text[-1])\n",
        "print(\"First 5 characters: \", text[:5])\n",
        "print(\"Characters from position 5 to end: \", text[5:])\n",
        "print(\"Reverse order: \", text[::-1])"
      ],
      "metadata": {
        "id": "dtNHzlYE0eXq",
        "outputId": "7de60f0e-2402-41a8-be6a-38a6119910ab",
        "colab": {
          "base_uri": "https://localhost:8080/"
        }
      },
      "execution_count": 6,
      "outputs": [
        {
          "output_type": "stream",
          "name": "stdout",
          "text": [
            "First character:  H\n",
            "Last character:  !\n",
            "First 5 characters:  Hello\n",
            "Characters from position 5 to end:  , world!\n",
            "Reverse order:  !dlrow ,olleH\n"
          ]
        }
      ]
    }
  ]
}