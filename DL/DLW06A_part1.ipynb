{
  "nbformat": 4,
  "nbformat_minor": 0,
  "metadata": {
    "colab": {
      "provenance": [],
      "include_colab_link": true
    },
    "kernelspec": {
      "name": "python3",
      "display_name": "Python 3"
    },
    "language_info": {
      "name": "python"
    }
  },
  "cells": [
    {
      "cell_type": "markdown",
      "metadata": {
        "id": "view-in-github",
        "colab_type": "text"
      },
      "source": [
        "<a href=\"https://colab.research.google.com/github/Son324/DL23/blob/main/DL/DLW06A_part1.ipynb\" target=\"_parent\"><img src=\"https://colab.research.google.com/assets/colab-badge.svg\" alt=\"Open In Colab\"/></a>"
      ]
    },
    {
      "cell_type": "markdown",
      "source": [
        "# 🌀**DLW06A Part I (4/12)** Coding and Language games"
      ],
      "metadata": {
        "id": "_mbT_YJKGkm-"
      }
    },
    {
      "cell_type": "markdown",
      "source": [
        "# 💕 Goal: Creating an app similar to **_Word Guessing Game from Hints_**\n",
        "\n",
        "We will be spending 2 weeks to get this go."
      ],
      "metadata": {
        "id": "ppmHMRdisMiv"
      }
    },
    {
      "cell_type": "markdown",
      "source": [
        "##💦 **Demo 1: Making a word quiz.**"
      ],
      "metadata": {
        "id": "MWpQZGE5wZgt"
      }
    },
    {
      "cell_type": "code",
      "source": [
        "#@markdown Run this code to see guesiong game\n",
        "import random\n",
        "\n",
        "# Define a dictionary of words and their hints\n",
        "word_hints = {\n",
        "    \"suprasegmental\": [\n",
        "        \"This term is related to the features of speech that go beyond individual sounds.\",\n",
        "        \"It is often associated with intonation, stress, and timing.\",\n",
        "        \"Examples include pitch, tone, and stress patterns.\",\n",
        "        \"The answer begins with 's'.\"\n",
        "    ],\n",
        "    \"geminate\": [\n",
        "        \"This term is related to a specific type of consonant.\",\n",
        "        \"It refers to a consonant that is pronounced for a longer duration than its regular counterpart.\",\n",
        "        \"In some languages, it can be represented by doubling the consonant in writing.\",\n",
        "        \"The answer begins with 'g'.\"\n",
        "    ],\n",
        "    \"syllable\": [\n",
        "        \"This term is related to a unit of speech.\",\n",
        "        \"It is a sequence of speech sounds, typically consisting of a vowel and any surrounding consonants.\",\n",
        "        \"A word can have one or multiple of these units.\",\n",
        "        \"The answer begins with 's'.\"\n",
        "    ]\n",
        "}\n",
        "\n",
        "# Define guessing game\n",
        "\n",
        "def guessing_game(word_hints):\n",
        "    words = list(word_hints.keys())\n",
        "    random.shuffle(words)\n",
        "\n",
        "    for word in words:\n",
        "        print(\"\\nGuess the word based on the following hints:\")\n",
        "        hints = word_hints[word]\n",
        "        attempts = 0\n",
        "\n",
        "        while attempts < len(hints):\n",
        "            print(f\"Hint {attempts + 1}: {hints[attempts]}\")\n",
        "            guess = input(\"Your guess: \").strip().lower()\n",
        "\n",
        "            if guess == word.lower():\n",
        "                print(\"Congratulations! You guessed the correct word!\\n\")\n",
        "                break\n",
        "            else:\n",
        "                print(\"Incorrect. Try again with another hint.\\n\")\n",
        "                attempts += 1\n",
        "\n",
        "        if attempts == len(hints):\n",
        "            print(f\"Sorry, you've run out of hints. The correct word was: {word}\\n\")\n",
        "\n",
        "# Using this conditional structure is a common practice in Python to allow a script to be both executed as a standalone program and imported as a module in other scripts without immediately running the code within the script.\n",
        "if __name__ == \"__main__\":\n",
        "  guessing_game(word_hints)"
      ],
      "metadata": {
        "cellView": "form",
        "id": "68fDLUnZs8KF",
        "outputId": "98f922da-66cc-4a08-8dea-ba289c5acdd4",
        "colab": {
          "base_uri": "https://localhost:8080/"
        }
      },
      "execution_count": 1,
      "outputs": [
        {
          "output_type": "stream",
          "name": "stdout",
          "text": [
            "\n",
            "Guess the word based on the following hints:\n",
            "Hint 1: This term is related to the features of speech that go beyond individual sounds.\n",
            "Your guess: phonology\n",
            "Incorrect. Try again with another hint.\n",
            "\n",
            "Hint 2: It is often associated with intonation, stress, and timing.\n",
            "Your guess: segment\n",
            "Incorrect. Try again with another hint.\n",
            "\n",
            "Hint 3: Examples include pitch, tone, and stress patterns.\n",
            "Your guess: suprasegmental\n",
            "Congratulations! You guessed the correct word!\n",
            "\n",
            "\n",
            "Guess the word based on the following hints:\n",
            "Hint 1: This term is related to a specific type of consonant.\n",
            "Your guess: voiceless\n",
            "Incorrect. Try again with another hint.\n",
            "\n",
            "Hint 2: It refers to a consonant that is pronounced for a longer duration than its regular counterpart.\n",
            "Your guess: aspiration\n",
            "Incorrect. Try again with another hint.\n",
            "\n",
            "Hint 3: In some languages, it can be represented by doubling the consonant in writing.\n",
            "Your guess: geminate\n",
            "Congratulations! You guessed the correct word!\n",
            "\n",
            "\n",
            "Guess the word based on the following hints:\n",
            "Hint 1: This term is related to a unit of speech.\n",
            "Your guess: \n",
            "Incorrect. Try again with another hint.\n",
            "\n",
            "Hint 2: It is a sequence of speech sounds, typically consisting of a vowel and any surrounding consonants.\n",
            "Your guess: syllable\n",
            "Congratulations! You guessed the correct word!\n",
            "\n"
          ]
        }
      ]
    },
    {
      "cell_type": "markdown",
      "source": [
        "##💦**Demo 2: Convert a statement to a yes-no question**"
      ],
      "metadata": {
        "id": "DKwjeU8pW-iu"
      }
    },
    {
      "cell_type": "code",
      "source": [
        "#@markdown Install and import libraries\n",
        "%%capture\n",
        "!pip install gtts\n",
        "!pip install IPython\n",
        "from gtts import gTTS\n",
        "from IPython.display import Audio, display\n",
        "\n",
        "#@markdown etts(), ktts()\n",
        "def etts(text):\n",
        "  text_to_say = text\n",
        "\n",
        "  gtts_object = gTTS(text = text_to_say,\n",
        "                     lang = \"en\",\n",
        "                    slow = False)\n",
        "  \n",
        "  gtts_object.save(\"E-audio.mp3\")\n",
        "  return Audio(\"E-audio.mp3\")\n",
        "\n",
        "def ktts(text):\n",
        "  text_to_say = text\n",
        "\n",
        "  gtts_object = gTTS(text = text_to_say,\n",
        "                     lang = \"ko\",\n",
        "                    slow = False)\n",
        "  \n",
        "  gtts_object.save(\"K-audio.mp3\")\n",
        "  return Audio(\"K-audio.mp3\")"
      ],
      "metadata": {
        "cellView": "form",
        "id": "TajMEehr8_7D"
      },
      "execution_count": 3,
      "outputs": []
    },
    {
      "cell_type": "markdown",
      "source": [
        "---\n",
        "### Complete version with some restriction \n",
        "\n",
        "1. The statement you're entering must contain a be-verb.\n",
        "2. If you use a proper noun as a subject, restrict it to one of the followings: \n",
        "\n",
        "> **Male: Tom, Thomas, Bill**\n",
        "\n",
        "> **Female: Mary, Jane, Jessica**\n",
        "\n",
        "2. Must contain a punctuation(.)\n",
        "---"
      ],
      "metadata": {
        "id": "5XYJaX2IDrOu"
      }
    },
    {
      "cell_type": "code",
      "source": [
        "#@markdown Statment to a Yes-No question (Audio autoplay)\n",
        "sentence = input(\"Type a sentence containing a be verb: e.g., I am a students.\\n\")\n",
        "beverbs = [\"is\", \"was\", \"are\", \"were\"]\n",
        "pronouns = [\"I\",\"You\",\"He\",\"She\",\"They\",\"It\"]\n",
        "names = [\"Mary\", \"Jane\", \"Tom\",\"Thomas\",\"Jessica\", \"Bill\"]\n",
        "\n",
        "def check_word(list_A, list_B):\n",
        "    for a in list_A:\n",
        "        for b in list_B:\n",
        "            if b in a:\n",
        "                mword = a\n",
        "                return True, mword\n",
        "    return False, None\n",
        "\n",
        "\n",
        "cat1 = sentence.split()\n",
        "\n",
        "result = check_word(cat1,beverbs)\n",
        "\n",
        "if result[0] == True:\n",
        "  if cat1[0] in pronouns:\n",
        "      b = result[1]\n",
        "      be = \" \"+b+\" \"\n",
        "      ss = sentence.split(be)\n",
        "      subj = ss[0]\n",
        "      nsubj = subj[0].lower()+subj[1:]\n",
        "      pred = ss[1]\n",
        "      w1 = b[0].upper() + b[1:] # Capitalized be verb\n",
        "      newsent = w1 + \" \" + nsubj + \" \" + pred[:-1] + \"?\"\n",
        "      mytext = \"I'll make it to a yes-no question: \" + newsent\n",
        "      print(\"Yes-no question: \", newsent)\n",
        "  elif cat1[0] not in pronouns and cat1[0] in names:\n",
        "        b = result[1]\n",
        "        be = \" \"+b+\" \"\n",
        "        ss = sentence.split(be)\n",
        "        subj = ss[0]\n",
        "        pred = ss[1]\n",
        "        w1 = b[0].upper() + b[1:] # Capitalized be verb\n",
        "        newsent = w1 + \" \" + subj + \" \" + pred[:-1] + \"?\"\n",
        "        mytext = \"I'll make it to a yes-no question: \" + newsent\n",
        "        print(\"Yes-no question: \", newsent)\n",
        "  elif cat1[0] not in pronouns and cat1[0] not in names:\n",
        "        b = result[1]\n",
        "        be = \" \"+b+\" \"\n",
        "        ss = sentence.split(be)\n",
        "        subj = ss[0]\n",
        "        nsubj = subj[0].lower()+subj[1:]\n",
        "        pred = ss[1]\n",
        "        w1 = b[0].upper() + b[1:] # Capitalized be verb\n",
        "        newsent = w1 + \" \" + nsubj + \" \" + pred[:-1] + \"?\"\n",
        "        mytext = \"I'll make it to a yes-no question: \" + newsent\n",
        "        print(\"Yes-no question: \", newsent)\n",
        "\n",
        "else:\n",
        "    mytext = \"The sentence you\\' provided does not contain a 'Be' verb. Try again.\"\n",
        "    print(\"Type a sentence that contains a be verb.\")\n",
        "\n",
        "etts(mytext)\n",
        "Audio(\"E-audio.mp3\",autoplay=True)"
      ],
      "metadata": {
        "cellView": "form",
        "id": "ZjPSWFub-55P",
        "outputId": "2db67497-9ff1-4d4e-d26f-25b1a3227591",
        "colab": {
          "base_uri": "https://localhost:8080/",
          "height": 129
        }
      },
      "execution_count": 8,
      "outputs": [
        {
          "output_type": "stream",
          "name": "stdout",
          "text": [
            "Type a sentence containing a be verb: e.g., I am a students.\n",
            "One of my favorite soccer player is Sonny.\n",
            "Yes-no question:  Is one of my favorite soccer player Sonny?\n"
          ]
        },
        {
          "output_type": "execute_result",
          "data": {
            "text/plain": [
              "<IPython.lib.display.Audio object>"
            ],
            "text/html": [
              "\n",
              "                <audio  controls=\"controls\" autoplay=\"autoplay\">\n",
              "                    <source src=\"data:audio/mpeg;base64,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\" type=\"audio/mpeg\" />\n",
              "                    Your browser does not support the audio element.\n",
              "                </audio>\n",
              "              "
            ]
          },
          "metadata": {},
          "execution_count": 8
        }
      ]
    },
    {
      "cell_type": "markdown",
      "source": [
        "## 💦**Demo 3: Story game**"
      ],
      "metadata": {
        "id": "UG0_f0gJQl1r"
      }
    },
    {
      "cell_type": "code",
      "source": [
        "#@markdown Adventure game with reading\n",
        "print(\"Welcome to the adventure game!\")\n",
        "print(\"=\"*50)\n",
        "print(\"You are a high school student who has been chosen to embark on a quest to save your town from a mysterious curse.\")\n",
        "print(\"You will face various challenges and choices along the way, and your decisions will determine the outcome of the story.\")\n",
        "print(\"=\"*50)\n",
        "name = input(\"What is your name? \")\n",
        "print(\"=\"*50)\n",
        "print(f\"Nice to meet you, {name}! Are you ready to begin?\")\n",
        "print(\"=\"*50)\n",
        "# Start of the story\n",
        "print(\"You wake up one morning to find that your town is covered in a thick fog.\")\n",
        "print(\"People are starting to get sick, and strange things are happening.\")\n",
        "print(\"You decide to investigate and find out that a curse has been cast upon the town.\")\n",
        "print(\"You meet a wise old sage who tells you that the only way to lift the curse is to find a magical artifact that is hidden in a dangerous dungeon.\")\n",
        "print(\"=\"*50)\n",
        "# First choice\n",
        "print(\"You have two options:\")\n",
        "print(\"Option 1: Search for clues in the town.\")\n",
        "print(\"Option 2: Go straight to the dungeon.\")\n",
        "print(\"=\"*50)\n",
        "choice = input(\"Which option do you choose? (1 or 2) \")\n",
        "print(\"=\"*50)\n",
        "if choice == \"1\":\n",
        "    print(\"You spend the day talking to townspeople and searching for clues.\")\n",
        "    print(\"You find a cryptic message that leads you to a hidden cave.\")\n",
        "elif choice == \"2\":\n",
        "    print(\"You journey to the dungeon and face many dangers along the way.\")\n",
        "    print(\"You eventually reach the entrance to the dungeon.\")\n",
        "print(\"=\"*50)\n",
        "# Second choice\n",
        "print(\"You have two options:\")\n",
        "print(\"Option 1: Enter the cave.\")\n",
        "print(\"Option 2: Enter the dungeon.\")\n",
        "print(\"=\"*50)\n",
        "choice = input(\"Which option do you choose? (1 or 2) \")\n",
        "print(\"=\"*50)\n",
        "if choice == \"1\":\n",
        "    print(\"=\"*50)\n",
        "    print(\"You enter the cave and find the magical artifact!\")\n",
        "    print(\"You bring it back to the town and the curse is lifted.\")\n",
        "    print(\"Congratulations! You have saved the town!\")\n",
        "    print(\"=\"*50)\n",
        "elif choice == \"2\":\n",
        "    print(\"=\"*50)\n",
        "    print(\"You enter the dungeon and face many challenges.\")\n",
        "    print(\"You eventually find the magical artifact, but it is guarded by a powerful monster.\")\n",
        "    print(\"You must defeat the monster to retrieve the artifact.\")\n",
        "    print(\"You engage in a fierce battle!\")\n",
        "    print(\"You lost the battle and the curse remains.\")\n",
        "    print(\"Brave You! Though the curse remains, people appreicate your effort.\")\n",
        "    print(\"=\"*50)\n"
      ],
      "metadata": {
        "cellView": "form",
        "id": "qBAUNW9qP75J",
        "outputId": "e4bf7c3f-5718-41af-bbe6-1cd9017ae4aa",
        "colab": {
          "base_uri": "https://localhost:8080/"
        }
      },
      "execution_count": 9,
      "outputs": [
        {
          "output_type": "stream",
          "name": "stdout",
          "text": [
            "Welcome to the adventure game!\n",
            "==================================================\n",
            "You are a high school student who has been chosen to embark on a quest to save your town from a mysterious curse.\n",
            "You will face various challenges and choices along the way, and your decisions will determine the outcome of the story.\n",
            "==================================================\n",
            "What is your name? Son\n",
            "==================================================\n",
            "Nice to meet you, Son! Are you ready to begin?\n",
            "==================================================\n",
            "You wake up one morning to find that your town is covered in a thick fog.\n",
            "People are starting to get sick, and strange things are happening.\n",
            "You decide to investigate and find out that a curse has been cast upon the town.\n",
            "You meet a wise old sage who tells you that the only way to lift the curse is to find a magical artifact that is hidden in a dangerous dungeon.\n",
            "==================================================\n",
            "You have two options:\n",
            "Option 1: Search for clues in the town.\n",
            "Option 2: Go straight to the dungeon.\n",
            "==================================================\n",
            "Which option do you choose? (1 or 2) 1\n",
            "==================================================\n",
            "You spend the day talking to townspeople and searching for clues.\n",
            "You find a cryptic message that leads you to a hidden cave.\n",
            "==================================================\n",
            "You have two options:\n",
            "Option 1: Enter the cave.\n",
            "Option 2: Enter the dungeon.\n",
            "==================================================\n",
            "Which option do you choose? (1 or 2) 1\n",
            "==================================================\n",
            "==================================================\n",
            "You enter the cave and find the magical artifact!\n",
            "You bring it back to the town and the curse is lifted.\n",
            "Congratulations! You have saved the town!\n",
            "==================================================\n"
          ]
        }
      ]
    },
    {
      "cell_type": "code",
      "source": [
        "#@markdown Story game with listening (audio)\n",
        "from gtts import gTTS\n",
        "import IPython.display as ipd\n",
        "\n",
        "def play_audio(text):\n",
        "    language = 'en'\n",
        "    audio = gTTS(text=text, lang=language, slow=False)\n",
        "    audio.save(\"audio.mp3\")\n",
        "    ipd.display(ipd.Audio(\"audio.mp3\", autoplay=True))\n",
        "\n",
        "# Introduction\n",
        "play_audio(\"Welcome to the story game. You are walking home from school when you hear footsteps behind you. You look back and see a shady figure in the distance. What do you do?\")\n",
        "ipd.clear_output(wait=True)\n",
        "input(\"Press Enter to continue...\")\n",
        "\n",
        "# Stage 1\n",
        "play_audio(\"You decide to run. Do you run towards the park or towards the busy street?\")\n",
        "ipd.clear_output(wait=True)\n",
        "choice = input(\"Enter 1 to run towards the park, or 2 to run towards the busy street: \")\n",
        "if choice == \"1\":\n",
        "    play_audio(\"You run towards the park and manage to lose the shady figure. You continue walking home and make it back safely.\")\n",
        "elif choice == \"2\":\n",
        "    play_audio(\"You run towards the busy street, hoping to find someone to help you. As you get closer, you realize that the figure is a police officer. You stop and explain what happened, and the officer escorts you home safely.\")\n",
        "ipd.clear_output(wait=True)\n",
        "input(\"Press Enter to continue...\")\n",
        "\n",
        "# Stage 2\n",
        "play_audio(\"You arrive home and find that your front door is slightly open. Do you go inside or call the police?\")\n",
        "ipd.clear_output(wait=True)\n",
        "choice = input(\"Enter 1 to go inside, or 2 to call the police: \")\n",
        "if choice == \"1\":\n",
        "    play_audio(\"You cautiously enter your home and find that everything is as you left it. You breathe a sigh of relief and go about your evening.\")\n",
        "elif choice == \"2\":\n",
        "    play_audio(\"You call the police and they arrive shortly after. They search your home and find no one inside. You spend the night at a friend's house and return home the next day.\")\n",
        "ipd.clear_output(wait=True)\n",
        "input(\"Press Enter to continue...\")\n",
        "\n",
        "# Conclusion\n",
        "play_audio(\"Good choice! you have successfully made it home safely. Thanks for playing!\")\n",
        "ipd.clear_output(wait=True)\n"
      ],
      "metadata": {
        "cellView": "form",
        "id": "mx_BDEl-TqLe"
      },
      "execution_count": null,
      "outputs": []
    },
    {
      "cell_type": "markdown",
      "source": [
        "---\n",
        "# 📙Concepts and elements to cover for our goal:\n",
        "\n",
        "0. Importing modules: Explain how to import a module (like random) and use its functions (like random.shuffle()).\n",
        "\n",
        "1. Python basics: Basic data types (strings, integers, lists, dictionaries), variables, and basic input/output functions (like print() and input()).\n",
        "\n",
        "2. String manipulation: Cover string methods like .strip() and .lower().\n",
        "3. Control structures: Introduce for loops, while loops, and conditional statements (if, elif, else).\n",
        "\n",
        "4. Functions: Explain how to define and use functions, including function parameters. \n",
        "\n",
        "5. F-strings: Introduce f-strings (formatted string literals) and how to embed expressions inside string literals using curly braces {}.\n",
        "---"
      ],
      "metadata": {
        "id": "2VMRdKbJwOsk"
      }
    },
    {
      "cell_type": "markdown",
      "source": [
        "# [0] Importing modules\n",
        "\n",
        "1. **function, (class), module, package, and library**\n",
        "\n",
        "> (class) > functions\n",
        "\n",
        "\n",
        "2. Let's use the analogy of a toolbox: \n",
        "\n",
        "+ **a module** is a single tool, (e.g., random) \n",
        "+ **a package** is a toolbox containing multiple tools (e.g., gTTS)\n",
        "+ **a library** is a set of toolboxes designed for a specific purpose. (e.g., nltk - Natural Language Tool Kit) _>> Next time_"
      ],
      "metadata": {
        "id": "wgZEzhkQwzc3"
      }
    },
    {
      "cell_type": "markdown",
      "source": [
        "##A. 'gTTS' package"
      ],
      "metadata": {
        "id": "298wKG9q7-rN"
      }
    },
    {
      "cell_type": "code",
      "source": [
        "!pip install gtts\n",
        "!pip install IPython\n",
        "from gtts import gTTS\n",
        "from IPython.display import Audio, display"
      ],
      "metadata": {
        "id": "YLCRqNbW8E9J"
      },
      "execution_count": null,
      "outputs": []
    },
    {
      "cell_type": "markdown",
      "source": [
        "뒤에 youtube video 까지 추가하면 이것도 불러올 수 있음"
      ],
      "metadata": {
        "id": "Om5VGn1EVNGx"
      }
    },
    {
      "cell_type": "code",
      "source": [
        "#@markdown etts(), ktts()\n",
        "def etts(text):\n",
        "  text_to_say = text\n",
        "\n",
        "  gtts_object = gTTS(text = text_to_say,\n",
        "                     lang = \"en\",\n",
        "                    slow = False)\n",
        "  \n",
        "  gtts_object.save(\"E-audio.mp3\")\n",
        "  return Audio(\"E-audio.mp3\")\n",
        "\n",
        "def ktts(text):\n",
        "  text_to_say = text\n",
        "\n",
        "  gtts_object = gTTS(text = text_to_say,\n",
        "                     lang = \"ko\",\n",
        "                    slow = False)\n",
        "  \n",
        "  gtts_object.save(\"K-audio.mp3\")\n",
        "  return Audio(\"K-audio.mp3\")"
      ],
      "metadata": {
        "id": "bYDfENzGRUFb"
      },
      "execution_count": 10,
      "outputs": []
    },
    {
      "cell_type": "markdown",
      "source": [
        "복사하는데, 유의해야할 상황\n",
        "---\n",
        "lang = \" \" 여기 들어갈 언어는 gtts 언어 사용"
      ],
      "metadata": {
        "id": "TWLn0l5xVfG6"
      }
    },
    {
      "cell_type": "markdown",
      "source": [
        "## B. 'random' module\n",
        "\n",
        "[Random Picker App using 'random'](https://github.com/MK316/Spring2023/blob/main/RandomPickerS23.ipynb)"
      ],
      "metadata": {
        "id": "vSFe_Umb68o9"
      }
    },
    {
      "cell_type": "code",
      "source": [
        "import random"
      ],
      "metadata": {
        "id": "t8tYICF_1Yx8"
      },
      "execution_count": 11,
      "outputs": []
    },
    {
      "cell_type": "markdown",
      "source": [
        "Return a number between 3 and 9 (both included):"
      ],
      "metadata": {
        "id": "RlWQ5dXark-r"
      }
    },
    {
      "cell_type": "code",
      "source": [
        "random.randint(1, 10) #random.randint(x,y)는 함수이므로 문법대로 사용해야 함."
      ],
      "metadata": {
        "colab": {
          "base_uri": "https://localhost:8080/"
        },
        "id": "sMf1Ow7W11EZ",
        "outputId": "57acb6c1-75ee-428d-cd0f-275059ed694a"
      },
      "execution_count": 27,
      "outputs": [
        {
          "output_type": "execute_result",
          "data": {
            "text/plain": [
              "1"
            ]
          },
          "metadata": {},
          "execution_count": 27
        }
      ]
    },
    {
      "cell_type": "code",
      "source": [
        "a1 = random.randint(1, 10)\n",
        "a1*10  #변수를 이용하면 결과값을 이용한 다른 연산이나 작업이 가능하다."
      ],
      "metadata": {
        "colab": {
          "base_uri": "https://localhost:8080/"
        },
        "id": "WUVN9-Rs825s",
        "outputId": "85ff60cd-6d43-44cf-eb1a-e1a8d339d98c"
      },
      "execution_count": 64,
      "outputs": [
        {
          "output_type": "execute_result",
          "data": {
            "text/plain": [
              "100"
            ]
          },
          "metadata": {},
          "execution_count": 64
        }
      ]
    },
    {
      "cell_type": "markdown",
      "source": [
        "# [1] Python basics: \n",
        "\n",
        "+ Basic data types (strings, integers, lists, dictionaries), \n",
        "+ variables, \n",
        "+ basic input/output functions (like print() and input()).\n",
        "\n"
      ],
      "metadata": {
        "id": "_vTm-kXl8qa_"
      }
    },
    {
      "cell_type": "markdown",
      "source": [
        "## [1-1] Basic data types"
      ],
      "metadata": {
        "id": "qaQ0_hkoENRX"
      }
    },
    {
      "cell_type": "markdown",
      "source": [
        "### A. strings"
      ],
      "metadata": {
        "id": "HB86s1k990Hh"
      }
    },
    {
      "cell_type": "code",
      "source": [
        "a2 = \"Welcome\"\n",
        "a3 = \"2023\""
      ],
      "metadata": {
        "id": "L_OImwSL94Kr"
      },
      "execution_count": null,
      "outputs": []
    },
    {
      "cell_type": "markdown",
      "source": [
        "☺️ DIY: How to get \"Welcome, 2023!\""
      ],
      "metadata": {
        "id": "wkYUBwu1-IvG"
      }
    },
    {
      "cell_type": "code",
      "source": [],
      "metadata": {
        "id": "XZ2LHJcl9_u4",
        "outputId": "f6b592bd-8a7f-4b62-e14f-f97e80cdece8",
        "colab": {
          "base_uri": "https://localhost:8080/",
          "height": 35
        }
      },
      "execution_count": null,
      "outputs": [
        {
          "output_type": "execute_result",
          "data": {
            "text/plain": [
              "'Welcome, 2023!'"
            ],
            "application/vnd.google.colaboratory.intrinsic+json": {
              "type": "string"
            }
          },
          "metadata": {},
          "execution_count": 20
        }
      ]
    },
    {
      "cell_type": "markdown",
      "source": [
        "☺️ DIY: Let a4 = \"화이팅\", and get '화이팅화이팅화이팅화이팅화이팅화이팅화이팅화이팅화이팅화이팅'(10번)"
      ],
      "metadata": {
        "id": "WNaHBznU-yEd"
      }
    },
    {
      "cell_type": "code",
      "source": [],
      "metadata": {
        "id": "0vfPcih3-xg4",
        "outputId": "be3891a2-8eba-4f0b-a31b-9e0ed445871a",
        "colab": {
          "base_uri": "https://localhost:8080/",
          "height": 35
        }
      },
      "execution_count": null,
      "outputs": [
        {
          "output_type": "execute_result",
          "data": {
            "text/plain": [
              "'화이팅화이팅화이팅화이팅화이팅화이팅화이팅화이팅화이팅화이팅'"
            ],
            "application/vnd.google.colaboratory.intrinsic+json": {
              "type": "string"
            }
          },
          "metadata": {},
          "execution_count": 21
        }
      ]
    },
    {
      "cell_type": "code",
      "source": [
        "type(a2). # data type of the variable a2"
      ],
      "metadata": {
        "colab": {
          "base_uri": "https://localhost:8080/"
        },
        "id": "1XroWNyGADZU",
        "outputId": "05a0322b-a18c-401f-8aa2-ec8a7975d907"
      },
      "execution_count": null,
      "outputs": [
        {
          "output_type": "execute_result",
          "data": {
            "text/plain": [
              "str"
            ]
          },
          "metadata": {},
          "execution_count": 22
        }
      ]
    },
    {
      "cell_type": "markdown",
      "source": [
        "###B. Integers, float"
      ],
      "metadata": {
        "id": "kpNXrqZ2_9I2"
      }
    },
    {
      "cell_type": "code",
      "source": [
        "x1 = 45; y1 = 0.5\n",
        "x1 * y1"
      ],
      "metadata": {
        "colab": {
          "base_uri": "https://localhost:8080/"
        },
        "id": "CEs2BHNbAB1Q",
        "outputId": "e63af813-d7ca-422b-91d2-75a50ef4564e"
      },
      "execution_count": null,
      "outputs": [
        {
          "output_type": "execute_result",
          "data": {
            "text/plain": [
              "22.5"
            ]
          },
          "metadata": {},
          "execution_count": 23
        }
      ]
    },
    {
      "cell_type": "code",
      "source": [],
      "metadata": {
        "id": "2WarI3IQsRJX",
        "outputId": "8304e3e2-9753-45f0-adb6-b2da469a304a",
        "colab": {
          "base_uri": "https://localhost:8080/"
        }
      },
      "execution_count": null,
      "outputs": [
        {
          "output_type": "execute_result",
          "data": {
            "text/plain": [
              "float"
            ]
          },
          "metadata": {},
          "execution_count": 24
        }
      ]
    },
    {
      "cell_type": "markdown",
      "source": [
        "### C. List datatype"
      ],
      "metadata": {
        "id": "S7PJcJFkBO46"
      }
    },
    {
      "cell_type": "code",
      "source": [
        "x2 = [1,2,3]\n",
        "x2"
      ],
      "metadata": {
        "colab": {
          "base_uri": "https://localhost:8080/"
        },
        "id": "LjSEH6lABR98",
        "outputId": "eb284b7f-40ef-48c5-ea6f-926543a1ee7b"
      },
      "execution_count": null,
      "outputs": [
        {
          "output_type": "execute_result",
          "data": {
            "text/plain": [
              "[1, 2, 3]"
            ]
          },
          "metadata": {},
          "execution_count": 26
        }
      ]
    },
    {
      "cell_type": "markdown",
      "source": [
        "x2[index]: Python index starts from 0"
      ],
      "metadata": {
        "id": "xcPyj0Fesdiu"
      }
    },
    {
      "cell_type": "code",
      "source": [
        "x2[0]"
      ],
      "metadata": {
        "id": "VGWl1av6BYGu"
      },
      "execution_count": null,
      "outputs": []
    },
    {
      "cell_type": "code",
      "source": [
        "# range(x,y)\n",
        "x3 = range(1,10)\n",
        "list(x3)  #list(), range(1,10)"
      ],
      "metadata": {
        "colab": {
          "base_uri": "https://localhost:8080/"
        },
        "id": "WNmjoCQ1ANr4",
        "outputId": "9e1cf838-bd7f-47f5-def6-731599ef24a5"
      },
      "execution_count": null,
      "outputs": [
        {
          "output_type": "execute_result",
          "data": {
            "text/plain": [
              "[1, 2, 3, 4, 5, 6, 7, 8, 9]"
            ]
          },
          "metadata": {},
          "execution_count": 28
        }
      ]
    },
    {
      "cell_type": "code",
      "source": [
        "x4 = \"John\"\n",
        "list(x4)"
      ],
      "metadata": {
        "colab": {
          "base_uri": "https://localhost:8080/"
        },
        "id": "amRP-ytuBlO6",
        "outputId": "a8eeef49-a6aa-4452-f9e2-d933278c0bdc"
      },
      "execution_count": null,
      "outputs": [
        {
          "output_type": "execute_result",
          "data": {
            "text/plain": [
              "['J', 'o', 'h', 'n']"
            ]
          },
          "metadata": {},
          "execution_count": 29
        }
      ]
    },
    {
      "cell_type": "markdown",
      "source": [
        "###D. Dictionary datatype: {'key':'value'}\n",
        "\n",
        "In Python, a dictionary is a built-in data type that represents a collection of key-value pairs. Each key-value pair in a dictionary is separated by a colon (:), and each pair is separated by a comma. "
      ],
      "metadata": {
        "id": "ZoyOSN_QCCdO"
      }
    },
    {
      "cell_type": "code",
      "source": [
        "mydict = {\"API\":\"Application Programming Interface\", \"GPT\":\"Generative Pretrained Transformer\"}\n",
        "mydict['API']"
      ],
      "metadata": {
        "colab": {
          "base_uri": "https://localhost:8080/",
          "height": 35
        },
        "id": "PdRkfL3JBMWK",
        "outputId": "0e165aee-8079-4359-c38e-64e33c14c9ac"
      },
      "execution_count": null,
      "outputs": [
        {
          "output_type": "execute_result",
          "data": {
            "text/plain": [
              "'Application Programming Interface'"
            ],
            "application/vnd.google.colaboratory.intrinsic+json": {
              "type": "string"
            }
          },
          "metadata": {},
          "execution_count": 30
        }
      ]
    },
    {
      "cell_type": "code",
      "source": [
        "mydict['GPT']"
      ],
      "metadata": {
        "id": "muVfPouBs47b",
        "outputId": "1d08be3c-9e45-4a57-c0e4-1d7ff7368986",
        "colab": {
          "base_uri": "https://localhost:8080/",
          "height": 35
        }
      },
      "execution_count": null,
      "outputs": [
        {
          "output_type": "execute_result",
          "data": {
            "text/plain": [
              "'Generative Pretrained Transformer'"
            ],
            "application/vnd.google.colaboratory.intrinsic+json": {
              "type": "string"
            }
          },
          "metadata": {},
          "execution_count": 31
        }
      ]
    },
    {
      "cell_type": "code",
      "source": [
        "class_size = {\"Class A\": 25, \"Class B\": 30, \"Class C\": 32}\n",
        "class_size['Class C']"
      ],
      "metadata": {
        "colab": {
          "base_uri": "https://localhost:8080/"
        },
        "id": "WBs-NrEJDQRC",
        "outputId": "6c9a6b9f-6471-4424-a133-d47bb0d08f8c"
      },
      "execution_count": null,
      "outputs": [
        {
          "output_type": "execute_result",
          "data": {
            "text/plain": [
              "32"
            ]
          },
          "metadata": {},
          "execution_count": 32
        }
      ]
    },
    {
      "cell_type": "markdown",
      "source": [
        "## [1-2] Variables"
      ],
      "metadata": {
        "id": "0m_ux_SoEUos"
      }
    },
    {
      "cell_type": "markdown",
      "source": [
        "## [1-3] input/output functions"
      ],
      "metadata": {
        "id": "YUasz63dEYAX"
      }
    },
    {
      "cell_type": "code",
      "source": [
        "mynumber = 2\n",
        "mynumber"
      ],
      "metadata": {
        "colab": {
          "base_uri": "https://localhost:8080/"
        },
        "id": "BSp7TWkeEfmz",
        "outputId": "3bcd84d2-c721-4bc7-da68-a245706b8b5c"
      },
      "execution_count": null,
      "outputs": [
        {
          "output_type": "execute_result",
          "data": {
            "text/plain": [
              "2"
            ]
          },
          "metadata": {},
          "execution_count": 87
        }
      ]
    },
    {
      "cell_type": "code",
      "source": [
        "yournumber = input()  # In Python, input() is a built-in function that allows you to get user input from the keyboard. \n",
        "yournumber"
      ],
      "metadata": {
        "colab": {
          "base_uri": "https://localhost:8080/",
          "height": 53
        },
        "id": "6LZudH_0En_w",
        "outputId": "783d5cc3-75a8-465a-963e-b294e0816f0a"
      },
      "execution_count": null,
      "outputs": [
        {
          "name": "stdout",
          "output_type": "stream",
          "text": [
            "4\n"
          ]
        },
        {
          "output_type": "execute_result",
          "data": {
            "text/plain": [
              "'4'"
            ],
            "application/vnd.google.colaboratory.intrinsic+json": {
              "type": "string"
            }
          },
          "metadata": {},
          "execution_count": 33
        }
      ]
    },
    {
      "cell_type": "markdown",
      "source": [
        "☺️ After running the code below, can you tell what the resulting output means?"
      ],
      "metadata": {
        "id": "-Z1mQqzlH4k5"
      }
    },
    {
      "cell_type": "code",
      "source": [
        "yournumber*5"
      ],
      "metadata": {
        "colab": {
          "base_uri": "https://localhost:8080/",
          "height": 35
        },
        "id": "5cGgSs3qHxG_",
        "outputId": "61f4269a-ed03-4cae-f717-7f70b0c34f76"
      },
      "execution_count": null,
      "outputs": [
        {
          "output_type": "execute_result",
          "data": {
            "text/plain": [
              "'44444'"
            ],
            "application/vnd.google.colaboratory.intrinsic+json": {
              "type": "string"
            }
          },
          "metadata": {},
          "execution_count": 34
        }
      ]
    },
    {
      "cell_type": "code",
      "source": [
        "type(yournumber)"
      ],
      "metadata": {
        "colab": {
          "base_uri": "https://localhost:8080/"
        },
        "id": "664rKEalISSY",
        "outputId": "5314bd92-1d93-4d40-d399-b18d7d3b8930"
      },
      "execution_count": null,
      "outputs": [
        {
          "output_type": "execute_result",
          "data": {
            "text/plain": [
              "str"
            ]
          },
          "metadata": {},
          "execution_count": 35
        }
      ]
    },
    {
      "cell_type": "code",
      "source": [
        "yournumber = int(yournumber) # changing the type of the value to integer\n",
        "type(yournumber)"
      ],
      "metadata": {
        "colab": {
          "base_uri": "https://localhost:8080/"
        },
        "id": "u_ocEyoAIVC4",
        "outputId": "cae55304-aabb-4b25-bf49-c0c051815f76"
      },
      "execution_count": null,
      "outputs": [
        {
          "output_type": "execute_result",
          "data": {
            "text/plain": [
              "int"
            ]
          },
          "metadata": {},
          "execution_count": 36
        }
      ]
    },
    {
      "cell_type": "markdown",
      "source": [
        "Getting output:"
      ],
      "metadata": {
        "id": "Z9Kzd8ZW7Bri"
      }
    },
    {
      "cell_type": "code",
      "source": [
        "# print() 함수 배우기\n",
        "print(\"대한민국\")\n",
        "\n",
        "a2 = \"화이팅!\"  # a1: variable(변수)\n",
        "print(a2)\n",
        "print(a2*10)\n",
        "print(\"화이팅 10번 합시다: \", a2*10)\n",
        "a2"
      ],
      "metadata": {
        "id": "aQXDo7u-4-18",
        "outputId": "d02c1b36-7980-4293-8168-c3d350b08205",
        "colab": {
          "base_uri": "https://localhost:8080/",
          "height": 105
        }
      },
      "execution_count": null,
      "outputs": [
        {
          "output_type": "stream",
          "name": "stdout",
          "text": [
            "대한민국\n",
            "화이팅!\n",
            "화이팅!화이팅!화이팅!화이팅!화이팅!화이팅!화이팅!화이팅!화이팅!화이팅!\n",
            "화이팅 10번 합시다:  화이팅!화이팅!화이팅!화이팅!화이팅!화이팅!화이팅!화이팅!화이팅!화이팅!\n"
          ]
        },
        {
          "output_type": "execute_result",
          "data": {
            "text/plain": [
              "'화이팅!'"
            ],
            "application/vnd.google.colaboratory.intrinsic+json": {
              "type": "string"
            }
          },
          "metadata": {},
          "execution_count": 37
        }
      ]
    },
    {
      "cell_type": "code",
      "source": [
        "print(a2)\n",
        "print(\"=\"*30)\n",
        "a1=random.randint(1,10)\n",
        "print(\"Random integer between 1 and 10:\", a1)"
      ],
      "metadata": {
        "colab": {
          "base_uri": "https://localhost:8080/"
        },
        "id": "0jdQu65F2ZWw",
        "outputId": "3a5d1c38-1e5a-4df4-8b8a-e7d3b08ce48b"
      },
      "execution_count": null,
      "outputs": [
        {
          "output_type": "stream",
          "name": "stdout",
          "text": [
            "화이팅!\n",
            "==============================\n",
            "Random integer between 1 and 10: 7\n"
          ]
        }
      ]
    },
    {
      "cell_type": "markdown",
      "source": [
        "☺️DIY: \n",
        "**Q: John and Mary have been together for many days. Ask Mary how many days it has been since she met John. Then you tell Mary how many hours it has been since she met John.**\n",
        "\n",
        "1. Set the variable 'day' to 24\n",
        "2. Set the variable 'num_day' for the input from the user. Get a number (number of days) from the user using input() function\n",
        "2. Calculate days to hours: set the variable 'hours' to the final result."
      ],
      "metadata": {
        "id": "cvkWAvetFtSP"
      }
    },
    {
      "cell_type": "code",
      "source": [
        "day = \n",
        "num_day = \n",
        "hours = \n",
        "print(\"The total hours passed since Mary met John are: \", hours, \"hours.\")"
      ],
      "metadata": {
        "id": "Fdezo9WD1zju",
        "outputId": "174b66de-637f-420b-f218-3dbcf86e8f5b",
        "colab": {
          "base_uri": "https://localhost:8080/"
        }
      },
      "execution_count": null,
      "outputs": [
        {
          "output_type": "stream",
          "name": "stdout",
          "text": [
            "How many days? 23\n",
            "The total hours passed since Mary met John are:  552 hours.\n"
          ]
        }
      ]
    },
    {
      "cell_type": "markdown",
      "source": [
        "#[2] String manipulation: strip() and .lower().\n",
        "\n"
      ],
      "metadata": {
        "id": "zzkVAfU61HDk"
      }
    },
    {
      "cell_type": "markdown",
      "source": [
        "### **data.strip()**\n",
        "\n",
        "+ In Python, strip() is a built-in string method that returns a copy of the string with leading and trailing characters removed. \n",
        "+ By default, strip() removes whitespace characters such as spaces, tabs, and newlines from the beginning and end of the string."
      ],
      "metadata": {
        "id": "sSi_PvE5LTeC"
      }
    },
    {
      "cell_type": "code",
      "source": [
        "w1 = \" Mary is friendly. \"\n",
        "w1"
      ],
      "metadata": {
        "colab": {
          "base_uri": "https://localhost:8080/",
          "height": 35
        },
        "id": "IUtU-qG81XIt",
        "outputId": "e220311b-615a-4482-fcf3-989e2bcf0a26"
      },
      "execution_count": null,
      "outputs": [
        {
          "output_type": "execute_result",
          "data": {
            "text/plain": [
              "' Mary is friendly. '"
            ],
            "application/vnd.google.colaboratory.intrinsic+json": {
              "type": "string"
            }
          },
          "metadata": {},
          "execution_count": 46
        }
      ]
    },
    {
      "cell_type": "code",
      "source": [
        "w1.strip()"
      ],
      "metadata": {
        "colab": {
          "base_uri": "https://localhost:8080/",
          "height": 35
        },
        "id": "ZAhdPbqVKr6e",
        "outputId": "cd233fa9-fd66-4f89-da29-02e5f8e8ddf7"
      },
      "execution_count": null,
      "outputs": [
        {
          "output_type": "execute_result",
          "data": {
            "text/plain": [
              "'Mary is friendly.'"
            ],
            "application/vnd.google.colaboratory.intrinsic+json": {
              "type": "string"
            }
          },
          "metadata": {},
          "execution_count": 47
        }
      ]
    },
    {
      "cell_type": "markdown",
      "source": [
        "### **data.split()**"
      ],
      "metadata": {
        "id": "JGPdtmu8MFgv"
      }
    },
    {
      "cell_type": "code",
      "source": [
        "w1 = \"Mary is friendly.\"\n",
        "w1.split()"
      ],
      "metadata": {
        "colab": {
          "base_uri": "https://localhost:8080/"
        },
        "id": "xbF1sJB9MIpw",
        "outputId": "b9175d5c-0146-44ee-a8dc-9e11d71cdbd9"
      },
      "execution_count": null,
      "outputs": [
        {
          "output_type": "execute_result",
          "data": {
            "text/plain": [
              "['Mary', 'is', 'friendly.']"
            ]
          },
          "metadata": {},
          "execution_count": 48
        }
      ]
    },
    {
      "cell_type": "code",
      "source": [
        "w2 = \"out-of-date\"\n",
        "w2.split('-')"
      ],
      "metadata": {
        "colab": {
          "base_uri": "https://localhost:8080/"
        },
        "id": "IudKgTjkMVQP",
        "outputId": "fffcbccf-0217-466c-bcc2-d35131bd60c7"
      },
      "execution_count": null,
      "outputs": [
        {
          "output_type": "execute_result",
          "data": {
            "text/plain": [
              "['out', 'of', 'date']"
            ]
          },
          "metadata": {},
          "execution_count": 49
        }
      ]
    },
    {
      "cell_type": "code",
      "source": [
        "w1 = \"Mary\"\n",
        "w2 = \"is\"\n",
        "w3 = \"friendly\""
      ],
      "metadata": {
        "id": "tGBOKKKtLvj7"
      },
      "execution_count": null,
      "outputs": []
    },
    {
      "cell_type": "code",
      "source": [
        "wordlist = [w1, w2, w3]\n",
        "wordlist"
      ],
      "metadata": {
        "colab": {
          "base_uri": "https://localhost:8080/"
        },
        "id": "c11AXGr0V_a4",
        "outputId": "f5a0b40c-c834-4888-c9fa-b243ac79243e"
      },
      "execution_count": null,
      "outputs": [
        {
          "output_type": "execute_result",
          "data": {
            "text/plain": [
              "['Mary', 'is', 'friendly']"
            ]
          },
          "metadata": {},
          "execution_count": 51
        }
      ]
    },
    {
      "cell_type": "markdown",
      "source": [
        "### **' '.join()**"
      ],
      "metadata": {
        "id": "Mb-LFWWPWn08"
      }
    },
    {
      "cell_type": "code",
      "source": [
        "' '.join(wordlist)"
      ],
      "metadata": {
        "colab": {
          "base_uri": "https://localhost:8080/",
          "height": 35
        },
        "id": "tZA7DsPPWGmA",
        "outputId": "90221f13-9bd2-40de-da6a-de32c074fb58"
      },
      "execution_count": null,
      "outputs": [
        {
          "output_type": "execute_result",
          "data": {
            "text/plain": [
              "'Mary is friendly'"
            ],
            "application/vnd.google.colaboratory.intrinsic+json": {
              "type": "string"
            }
          },
          "metadata": {},
          "execution_count": 52
        }
      ]
    },
    {
      "cell_type": "code",
      "source": [
        "'-'.join(wordlist)"
      ],
      "metadata": {
        "colab": {
          "base_uri": "https://localhost:8080/",
          "height": 35
        },
        "id": "EjLtWSL5WdYy",
        "outputId": "4ce99690-92b2-4ac7-b8c2-ee45569c21fe"
      },
      "execution_count": null,
      "outputs": [
        {
          "output_type": "execute_result",
          "data": {
            "text/plain": [
              "'Mary-is-friendly'"
            ],
            "application/vnd.google.colaboratory.intrinsic+json": {
              "type": "string"
            }
          },
          "metadata": {},
          "execution_count": 53
        }
      ]
    },
    {
      "cell_type": "markdown",
      "source": [
        "### **data.lower(), data.upper()**"
      ],
      "metadata": {
        "id": "PgCIMbbcL29X"
      }
    },
    {
      "cell_type": "code",
      "source": [
        "w1.lower()"
      ],
      "metadata": {
        "colab": {
          "base_uri": "https://localhost:8080/",
          "height": 35
        },
        "id": "JGqTVM22MuH0",
        "outputId": "118e59a5-ab1a-4271-98b6-5e38fd509488"
      },
      "execution_count": null,
      "outputs": [
        {
          "output_type": "execute_result",
          "data": {
            "text/plain": [
              "'mary'"
            ],
            "application/vnd.google.colaboratory.intrinsic+json": {
              "type": "string"
            }
          },
          "metadata": {},
          "execution_count": 54
        }
      ]
    },
    {
      "cell_type": "code",
      "source": [
        "w1.upper()"
      ],
      "metadata": {
        "colab": {
          "base_uri": "https://localhost:8080/",
          "height": 35
        },
        "id": "fP2lBss3Myhq",
        "outputId": "7b93479c-d868-4f9d-d120-456ed03398a4"
      },
      "execution_count": null,
      "outputs": [
        {
          "output_type": "execute_result",
          "data": {
            "text/plain": [
              "'MARY'"
            ],
            "application/vnd.google.colaboratory.intrinsic+json": {
              "type": "string"
            }
          },
          "metadata": {},
          "execution_count": 55
        }
      ]
    },
    {
      "cell_type": "markdown",
      "source": [
        "string index"
      ],
      "metadata": {
        "id": "yZJk2NtCM_oz"
      }
    },
    {
      "cell_type": "code",
      "source": [
        "len(w1) #number of string"
      ],
      "metadata": {
        "colab": {
          "base_uri": "https://localhost:8080/"
        },
        "id": "HmuiXLZSNGNa",
        "outputId": "a04863f4-d425-4cca-ae44-b0b8506c2910"
      },
      "execution_count": null,
      "outputs": [
        {
          "output_type": "execute_result",
          "data": {
            "text/plain": [
              "4"
            ]
          },
          "metadata": {},
          "execution_count": 56
        }
      ]
    },
    {
      "cell_type": "code",
      "source": [
        "w1[0] #1st string"
      ],
      "metadata": {
        "colab": {
          "base_uri": "https://localhost:8080/",
          "height": 35
        },
        "id": "xiyozLYxM6xk",
        "outputId": "b87c69f9-889e-4473-b142-33ef06d35790"
      },
      "execution_count": null,
      "outputs": [
        {
          "output_type": "execute_result",
          "data": {
            "text/plain": [
              "'M'"
            ],
            "application/vnd.google.colaboratory.intrinsic+json": {
              "type": "string"
            }
          },
          "metadata": {},
          "execution_count": 57
        }
      ]
    },
    {
      "cell_type": "code",
      "source": [
        "w1[-1]"
      ],
      "metadata": {
        "colab": {
          "base_uri": "https://localhost:8080/",
          "height": 35
        },
        "id": "AY_Ii7FhNeof",
        "outputId": "4cda0399-33ee-42f3-bf12-9f6aa11cd329"
      },
      "execution_count": null,
      "outputs": [
        {
          "output_type": "execute_result",
          "data": {
            "text/plain": [
              "'y'"
            ],
            "application/vnd.google.colaboratory.intrinsic+json": {
              "type": "string"
            }
          },
          "metadata": {},
          "execution_count": 58
        }
      ]
    },
    {
      "cell_type": "code",
      "source": [
        "w1[0:]"
      ],
      "metadata": {
        "id": "vhfF3iXwNijx"
      },
      "execution_count": null,
      "outputs": []
    },
    {
      "cell_type": "code",
      "source": [
        "w1[:]"
      ],
      "metadata": {
        "id": "pW4m0FoyNlf4"
      },
      "execution_count": null,
      "outputs": []
    },
    {
      "cell_type": "code",
      "source": [
        "w1[1:3]"
      ],
      "metadata": {
        "id": "tgp9ozDdNpwd"
      },
      "execution_count": null,
      "outputs": []
    },
    {
      "cell_type": "code",
      "source": [
        "w = \"mary\"\n",
        "w[0:-1]"
      ],
      "metadata": {
        "id": "0Su3TuHfPxwh"
      },
      "execution_count": null,
      "outputs": []
    },
    {
      "cell_type": "markdown",
      "source": [
        "☺️ DIY: Convert a statement to a yes-no question (e.g., Mary is smart. Tom is smiling. Jane is late.)"
      ],
      "metadata": {
        "id": "lGVkVdCLNMz0"
      }
    },
    {
      "cell_type": "code",
      "source": [
        "w1 = \"Mary\"; w2 = \"is\"; w3 = \"friendly.\""
      ],
      "metadata": {
        "id": "nz1VNUviNXaJ"
      },
      "execution_count": null,
      "outputs": []
    }
  ]
}