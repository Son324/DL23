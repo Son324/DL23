{
  "nbformat": 4,
  "nbformat_minor": 0,
  "metadata": {
    "colab": {
      "provenance": [],
      "include_colab_link": true
    },
    "kernelspec": {
      "name": "python3",
      "display_name": "Python 3"
    },
    "language_info": {
      "name": "python"
    }
  },
  "cells": [
    {
      "cell_type": "markdown",
      "metadata": {
        "id": "view-in-github",
        "colab_type": "text"
      },
      "source": [
        "<a href=\"https://colab.research.google.com/github/Son324/DL23/blob/main/DL/DLW02d.ipynb\" target=\"_parent\"><img src=\"https://colab.research.google.com/assets/colab-badge.svg\" alt=\"Open In Colab\"/></a>"
      ]
    },
    {
      "cell_type": "markdown",
      "source": [
        "---\n",
        "# 📗 Topic [2]: Coding basic #2\n",
        "---\n",
        "Keywords:\n",
        "\n",
        "+ variables\n",
        "+ **operators**\n",
        "+ **data types: list and dictionary**\n"
      ],
      "metadata": {
        "id": "k4A5_MYHpcNQ"
      }
    },
    {
      "cell_type": "markdown",
      "source": [
        "Your github IDs [here](https://docs.google.com/spreadsheets/d/17SX51lCqOdtvC7cAGoX5tP9fKwVdGY5sRzMg2pXh9uk/edit#gid=0) - revised 0327"
      ],
      "metadata": {
        "id": "mUVgzk50XMkt"
      }
    },
    {
      "cell_type": "markdown",
      "source": [
        "## [1] Variables"
      ],
      "metadata": {
        "id": "93gQaEo1RX63"
      }
    },
    {
      "cell_type": "markdown",
      "source": [
        "+ **A variable** is a named storage location that holds a value.\n",
        "+ Variables can be used **to store values** such as numbers, strings, lists, or other data types. \n",
        "+ The value of a variable can change throughout the execution of a program. \n",
        "+ To declare a variable in Python, you need to assign a value to it using the **equal (=) sign.**"
      ],
      "metadata": {
        "id": "jJT4hD1teuJr"
      }
    },
    {
      "cell_type": "code",
      "source": [
        "x = 10\n",
        "y = \"Hello, class!\"\n",
        "z = [1, 2, 3]"
      ],
      "metadata": {
        "id": "Xes87bY2X45M"
      },
      "execution_count": null,
      "outputs": []
    },
    {
      "cell_type": "markdown",
      "source": [
        "↗️ In the above example, 'x' is assigned the value of 10, 'y' is assigned the value of \"Hello, World!\", and 'z' is assigned the value of [1, 2, 3]."
      ],
      "metadata": {
        "id": "ulw6QsP5ZiKp"
      }
    },
    {
      "cell_type": "code",
      "source": [
        "# We can assign a link or a function\n",
        "import pandas as pd\n",
        "url = \"https://github.com/MK316/Spring2023/raw/main/data/att_sample.csv\"\n",
        "data = pd.read_csv(url)\n",
        "data"
      ],
      "metadata": {
        "id": "_7bvpJt2aQmg"
      },
      "execution_count": null,
      "outputs": []
    },
    {
      "cell_type": "markdown",
      "source": [
        "## Commenting '#'\n",
        "\n",
        "- In Python, the # symbol is used to indicate comment lines. A comment is a line of text in a code that is ignored by the Python interpreter and is used to provide explanations or notes for the reader of the code.\n",
        "\n",
        "## Uncommenting shortcut: \n",
        "* \"Ctrl + /\" (Place the cursor on the code line and press the Control + / key.)"
      ],
      "metadata": {
        "id": "xZv9R8I8ZWvt"
      }
    },
    {
      "cell_type": "code",
      "source": [
        "# This is a comment in Python\n",
        "x = 10 # this is also a comment"
      ],
      "metadata": {
        "id": "7UJmbmmTaFx9"
      },
      "execution_count": null,
      "outputs": []
    },
    {
      "cell_type": "code",
      "source": [
        "x1 = x * 10\n",
        "x2 = x + 5\n",
        "\n",
        "print(x1) # Print the value of x1\n",
        "print(x1, x2) # Print the values of x1 and x2"
      ],
      "metadata": {
        "id": "Ivc72tB0X_TS",
        "outputId": "b78bd218-4d20-4561-d456-5e7889286cfd",
        "colab": {
          "base_uri": "https://localhost:8080/"
        }
      },
      "execution_count": null,
      "outputs": [
        {
          "output_type": "stream",
          "name": "stdout",
          "text": [
            "100 15\n"
          ]
        }
      ]
    },
    {
      "cell_type": "code",
      "source": [
        "print(y)\n",
        "y1 = y + \"Welcome to the class.\"\n",
        "z1 = z + [3,2,1]\n",
        " \n",
        "print(y1, z1)"
      ],
      "metadata": {
        "id": "cxePqv-52RU0",
        "outputId": "b2672fd6-b997-44ad-e031-b73bd8527f1d",
        "colab": {
          "base_uri": "https://localhost:8080/"
        }
      },
      "execution_count": null,
      "outputs": [
        {
          "output_type": "stream",
          "name": "stdout",
          "text": [
            "Hello, class!\n",
            "Hello, class!Welcome to the class. [1, 2, 3, 3, 2, 1]\n"
          ]
        }
      ]
    },
    {
      "cell_type": "markdown",
      "source": [
        "Input types:\n",
        "\n",
        "* integer: e.g., -3, 1, 0, 234, etc.\n",
        "* float: e.g., -3.0, 1.2, 0, 3.141592653589793238, etc.\n",
        "* string: (characters) \"1\", '0', \"3.29\", \"Mary\", \"euphoria\", 'My name is Jane.'\n",
        "\n",
        "_Note:_ double or single quotation marks denote **string** data. (Open and close should match.)"
      ],
      "metadata": {
        "id": "4zDbyBHbeQsq"
      }
    },
    {
      "cell_type": "code",
      "source": [
        "# DIY\n",
        "x = 1\n",
        "y = 3\n",
        "z = x + y\n",
        "print(z)\n",
        "\n",
        "x1 = \"1\"\n",
        "y1 = \"3\"\n",
        "z1 = x1 + y1\n",
        "print(z1)"
      ],
      "metadata": {
        "colab": {
          "base_uri": "https://localhost:8080/"
        },
        "id": "yzZuC29QfP3T",
        "outputId": "45b3f89e-81b7-44f3-8a78-ea1be5bb2b25"
      },
      "execution_count": null,
      "outputs": [
        {
          "output_type": "stream",
          "name": "stdout",
          "text": [
            "4\n",
            "13\n"
          ]
        }
      ]
    },
    {
      "cell_type": "code",
      "source": [
        "type(z)"
      ],
      "metadata": {
        "colab": {
          "base_uri": "https://localhost:8080/"
        },
        "id": "qwDb8cf5fkKi",
        "outputId": "1a9a234e-e619-47f3-ff13-9646163303f0"
      },
      "execution_count": null,
      "outputs": [
        {
          "output_type": "execute_result",
          "data": {
            "text/plain": [
              "int"
            ]
          },
          "metadata": {},
          "execution_count": 7
        }
      ]
    },
    {
      "cell_type": "code",
      "source": [
        "type(z1)"
      ],
      "metadata": {
        "colab": {
          "base_uri": "https://localhost:8080/"
        },
        "id": "L7sxvSaOfsOt",
        "outputId": "b74b232d-a615-486b-9cb5-618a6e3480e4"
      },
      "execution_count": null,
      "outputs": [
        {
          "output_type": "execute_result",
          "data": {
            "text/plain": [
              "str"
            ]
          },
          "metadata": {},
          "execution_count": 8
        }
      ]
    },
    {
      "cell_type": "code",
      "source": [
        "print(type(z), type(z1))"
      ],
      "metadata": {
        "colab": {
          "base_uri": "https://localhost:8080/"
        },
        "id": "bbFaL_GWfwMH",
        "outputId": "7f4e3965-e83a-4b24-9780-34d04e1a5305"
      },
      "execution_count": null,
      "outputs": [
        {
          "output_type": "stream",
          "name": "stdout",
          "text": [
            "<class 'int'> <class 'str'>\n"
          ]
        }
      ]
    },
    {
      "cell_type": "markdown",
      "source": [
        "## [2] Operators\n",
        "\n",
        "* Symbols that perform operations on values and variables. \n",
        "* They are used to perform arithmetic and logical operations, and they can also be used to manipulate and compare values. "
      ],
      "metadata": {
        "id": "5JgA2T2dRft5"
      }
    },
    {
      "cell_type": "markdown",
      "source": [
        "1. Arithmetic Operators: +, -, *, /, %, ** (for exponentiation)\n",
        "2. semicolon ';' - separate multiple statements (code lines) on a single line."
      ],
      "metadata": {
        "id": "NJBgu_O4bczL"
      }
    },
    {
      "cell_type": "code",
      "source": [
        "x = 2; y = 5\n",
        "\n",
        "a1 = x + y\n",
        "a2 = x - y\n",
        "a3 = x * y\n",
        "a4 = x / y\n",
        "a5 = x ** y"
      ],
      "metadata": {
        "id": "dXT3pIzobUHU"
      },
      "execution_count": null,
      "outputs": []
    },
    {
      "cell_type": "code",
      "source": [
        "print(a1, a2, a3, a4, a5)"
      ],
      "metadata": {
        "colab": {
          "base_uri": "https://localhost:8080/"
        },
        "id": "_m3JBsOKd6Uv",
        "outputId": "0cd0e2cf-0d3b-4cfc-aa22-dfba91ce5d42"
      },
      "execution_count": null,
      "outputs": [
        {
          "output_type": "stream",
          "name": "stdout",
          "text": [
            "7 -3 10 0.4 32\n"
          ]
        }
      ]
    },
    {
      "cell_type": "code",
      "source": [
        "print(\"The value of a1:\", a1)"
      ],
      "metadata": {
        "colab": {
          "base_uri": "https://localhost:8080/"
        },
        "id": "5kq7I3nMd0Xi",
        "outputId": "fa99ebfb-e5e9-48b9-b60b-f52b799b7696"
      },
      "execution_count": null,
      "outputs": [
        {
          "output_type": "stream",
          "name": "stdout",
          "text": [
            "The value of a1: 7\n"
          ]
        }
      ]
    },
    {
      "cell_type": "markdown",
      "source": [
        "# 🌱 Define a function\n",
        "\n",
        "Demo 🔢 Calculator"
      ],
      "metadata": {
        "id": "Cx1NyWUAybc8"
      }
    },
    {
      "cell_type": "code",
      "source": [
        "# This function adds two numbers\n",
        "def add(x, y):\n",
        "    return x + y\n",
        "\n",
        "# This function subtracts two numbers\n",
        "def subtract(x, y):\n",
        "    return x - y\n",
        "\n",
        "# This function multiplies two numbers\n",
        "def multiply(x, y):\n",
        "    return x * y\n",
        "\n",
        "# This function divides two numbers\n",
        "def divide(x, y):\n",
        "    return x / y\n"
      ],
      "metadata": {
        "id": "Dod3_zgYdsWe"
      },
      "execution_count": null,
      "outputs": []
    },
    {
      "cell_type": "code",
      "source": [
        "# DIY: define a function names switch(x, y), where the input x, y changes its position in the output."
      ],
      "metadata": {
        "id": "W9CuAaqXgwb5"
      },
      "execution_count": null,
      "outputs": []
    },
    {
      "cell_type": "code",
      "source": [
        "# add(1200,34)\n",
        "# subtract(1200,200)\n",
        "multiply(50,2)\n",
        "# divide(500,5)"
      ],
      "metadata": {
        "id": "IgjKwhS9MyhM",
        "outputId": "468c46da-6892-48aa-b678-5724376344b4",
        "colab": {
          "base_uri": "https://localhost:8080/"
        }
      },
      "execution_count": null,
      "outputs": [
        {
          "output_type": "execute_result",
          "data": {
            "text/plain": [
              "100"
            ]
          },
          "metadata": {},
          "execution_count": 23
        }
      ]
    },
    {
      "cell_type": "code",
      "source": [
        "# Test\n",
        "\n",
        "add(2,3)\n",
        "# subtract(3,2)\n",
        "# multiply(2,3)\n",
        "# divide(3,2)"
      ],
      "metadata": {
        "id": "IoHh-U2GBsqH",
        "outputId": "c309e164-bc78-4a98-95f0-e115b38e3b7b",
        "colab": {
          "base_uri": "https://localhost:8080/"
        }
      },
      "execution_count": null,
      "outputs": [
        {
          "output_type": "execute_result",
          "data": {
            "text/plain": [
              "5"
            ]
          },
          "metadata": {},
          "execution_count": 22
        }
      ]
    },
    {
      "cell_type": "markdown",
      "source": [
        "## Using dropbox format"
      ],
      "metadata": {
        "id": "eOluPoNqCCE1"
      }
    },
    {
      "cell_type": "code",
      "source": [
        "!pip install gtts"
      ],
      "metadata": {
        "id": "C1DS5kstPHjM",
        "outputId": "54fe0698-34a7-4677-e4bb-8582895aaad3",
        "colab": {
          "base_uri": "https://localhost:8080/"
        }
      },
      "execution_count": null,
      "outputs": [
        {
          "output_type": "stream",
          "name": "stdout",
          "text": [
            "Looking in indexes: https://pypi.org/simple, https://us-python.pkg.dev/colab-wheels/public/simple/\n",
            "Collecting gtts\n",
            "  Downloading gTTS-2.3.1-py3-none-any.whl (28 kB)\n",
            "Requirement already satisfied: requests<3,>=2.27 in /usr/local/lib/python3.9/dist-packages (from gtts) (2.27.1)\n",
            "Requirement already satisfied: click<8.2,>=7.1 in /usr/local/lib/python3.9/dist-packages (from gtts) (8.1.3)\n",
            "Requirement already satisfied: certifi>=2017.4.17 in /usr/local/lib/python3.9/dist-packages (from requests<3,>=2.27->gtts) (2022.12.7)\n",
            "Requirement already satisfied: idna<4,>=2.5 in /usr/local/lib/python3.9/dist-packages (from requests<3,>=2.27->gtts) (3.4)\n",
            "Requirement already satisfied: charset-normalizer~=2.0.0 in /usr/local/lib/python3.9/dist-packages (from requests<3,>=2.27->gtts) (2.0.12)\n",
            "Requirement already satisfied: urllib3<1.27,>=1.21.1 in /usr/local/lib/python3.9/dist-packages (from requests<3,>=2.27->gtts) (1.26.15)\n",
            "Installing collected packages: gtts\n",
            "Successfully installed gtts-2.3.1\n"
          ]
        }
      ]
    },
    {
      "cell_type": "code",
      "source": [
        "from gtts import gTTS\n",
        "from IPython.display import Audio"
      ],
      "metadata": {
        "id": "ymmkIpa4OrzM"
      },
      "execution_count": null,
      "outputs": []
    },
    {
      "cell_type": "code",
      "source": [
        "def tts(text):\n",
        "  gtts_object = gTTS(text,lang = \"en\", slow = True) \n",
        "  gtts_object.save(\"myaudio.mp3\")\n",
        "  return Audio(\"myaudio.mp3\")"
      ],
      "metadata": {
        "id": "sWU2rToOO4y0"
      },
      "execution_count": null,
      "outputs": []
    },
    {
      "cell_type": "code",
      "source": [
        "func = \"multiply\" #@param = [\"add\",\"subtract\",\"multiply\",\"divide\"]\n",
        "digits = input(\"Type two numbers: (e.g., 3,4)\")\n",
        "digitsplit = digits.split(',')\n",
        "d1 = int(digitsplit[0])\n",
        "d2 = int(digitsplit[1])\n",
        "\n",
        "if func == \"add\":\n",
        "  result = add(d1,d2)\n",
        "  text = \"The addition of %d and %d equals %d.\"%(d1,d2,result)\n",
        "elif func == \"subtract\":\n",
        "  result = subtract(d1,d2)\n",
        "  text = \"If you subtract %d from %d, you get %d.\"%(d2,d1,result)\n",
        "elif func == \"divide\":\n",
        "  result = divide(d1,d2)\n",
        "  text = \"When you divide %d by %d, you get %d.\"%(d1,d2,result)\n",
        "elif func == \"multiply\":\n",
        "  result = multiply(d1,d2)\n",
        "  text = \"%d multiplied by %d is %d.\"%(d1,d2,result)\n",
        "\n",
        "print(text)\n",
        "tts(text)\n",
        "Audio(\"myaudio.mp3\")"
      ],
      "metadata": {
        "id": "FT47bY6qBo3k",
        "outputId": "ec683ae9-5ef6-454c-d182-867b589a819f",
        "colab": {
          "base_uri": "https://localhost:8080/",
          "height": 111
        }
      },
      "execution_count": null,
      "outputs": [
        {
          "output_type": "stream",
          "name": "stdout",
          "text": [
            "Type two numbers: (e.g., 3,4)100,100\n",
            "100 multiplied by 100 is 10000.\n"
          ]
        },
        {
          "output_type": "execute_result",
          "data": {
            "text/plain": [
              "<IPython.lib.display.Audio object>"
            ],
            "text/html": [
              "\n",
              "                <audio  controls=\"controls\" >\n",
              "                    <source src=\"data:audio/mpeg;base64,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\" type=\"audio/mpeg\" />\n",
              "                    Your browser does not support the audio element.\n",
              "                </audio>\n",
              "              "
            ]
          },
          "metadata": {},
          "execution_count": 34
        }
      ]
    },
    {
      "cell_type": "markdown",
      "source": [
        "More operators: <br>\n",
        "* Comparison Operators: ==, !=, <, >, <=, >= <br>\n",
        "* Assignment Operators: =, +=, -=, *=, /=, %= <br>\n",
        "* Logical Operators: and, or, not <br>\n",
        "* Identity Operators: is, is not <br>\n",
        "* Membership Operators: in, not in "
      ],
      "metadata": {
        "id": "sfubu24UbqjH"
      }
    },
    {
      "cell_type": "markdown",
      "source": [
        "# 📗Topic [3] Data types: number, string, list and dictionary\n"
      ],
      "metadata": {
        "id": "3eSrUoglRh6-"
      }
    },
    {
      "cell_type": "markdown",
      "source": [
        "\n",
        "|Data type| |\n",
        "|:--:|:--:|\n",
        "|number|int, float|\n",
        "|string|charcter|\n",
        "|list|[1, 2,4], ['Mary','Tom','Jane'|\n",
        "|dictionary|(key: value), [('English': 80), ('Korean':90)]|\n",
        "|tuple|('zero', 0)|\n"
      ],
      "metadata": {
        "id": "ZVFb5JmJrPXu"
      }
    },
    {
      "cell_type": "code",
      "source": [
        "a1 = 3   # a1 is integer\n",
        "a2 = 3.0 # a2 is float\n",
        "a3 = \"3\" # a3 is string\n",
        "\n",
        "type(a1); type(a2); type(a3)\n",
        "# print(type(a1), type(a2), type(a3))"
      ],
      "metadata": {
        "colab": {
          "base_uri": "https://localhost:8080/"
        },
        "id": "g-kvldqENA1e",
        "outputId": "7ac463bc-4877-4e58-ed5d-d31a0c38b8c3"
      },
      "execution_count": null,
      "outputs": [
        {
          "output_type": "stream",
          "name": "stdout",
          "text": [
            "<class 'int'> <class 'float'> <class 'str'>\n"
          ]
        }
      ]
    },
    {
      "cell_type": "markdown",
      "source": [
        "list and index (0, 1, 2,...)"
      ],
      "metadata": {
        "id": "HC_wMsPnNbzs"
      }
    },
    {
      "cell_type": "code",
      "source": [
        "a = [1, \"Mary\", 4, \"John\"]  # This is a list.\n",
        "print(type(a))\n",
        "\n",
        "# a+a"
      ],
      "metadata": {
        "colab": {
          "base_uri": "https://localhost:8080/"
        },
        "id": "LyTw7phONZHE",
        "outputId": "ea736ec2-fc2a-4add-e565-4a5cf5f96e8e"
      },
      "execution_count": 2,
      "outputs": [
        {
          "output_type": "stream",
          "name": "stdout",
          "text": [
            "<class 'list'>\n"
          ]
        }
      ]
    },
    {
      "cell_type": "markdown",
      "source": [
        "* index: Python index starts from '0'\n",
        "\n",
        "e.g., a = [1, 2, 3, 4]"
      ],
      "metadata": {
        "id": "-fL-pJvj7NW8"
      }
    },
    {
      "cell_type": "code",
      "source": [
        "a[0]\n",
        "type(a[0])\n",
        "type(a[1])\n",
        "a[0] + a[2]\n",
        "#a[0] + a[1] #int + str = error"
      ],
      "metadata": {
        "id": "9Z5zLDGc7X13",
        "outputId": "6adf1125-8f03-4f5e-df48-211aad879e9e",
        "colab": {
          "base_uri": "https://localhost:8080/"
        }
      },
      "execution_count": 3,
      "outputs": [
        {
          "output_type": "execute_result",
          "data": {
            "text/plain": [
              "5"
            ]
          },
          "metadata": {},
          "execution_count": 3
        }
      ]
    },
    {
      "cell_type": "markdown",
      "source": [
        "[Github accounts](https://raw.githubusercontent.com/MK316/Spring2023/main/DL/files/DL_github.csv)"
      ],
      "metadata": {
        "id": "S-KG49Zaim0S"
      }
    },
    {
      "cell_type": "markdown",
      "source": [
        "\n",
        "\n",
        "---\n",
        "# The End\n"
      ],
      "metadata": {
        "id": "3cZjH9xIiN4_"
      }
    }
  ]
}